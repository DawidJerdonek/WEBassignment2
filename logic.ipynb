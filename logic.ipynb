{
 "cells": [
  {
   "cell_type": "code",
   "execution_count": 12,
   "id": "54225c16",
   "metadata": {},
   "outputs": [],
   "source": [
    "import DBcm\n",
    "import random\n",
    "from collections import Counter\n",
    "from flask import Flask, request, session"
   ]
  },
  {
   "cell_type": "markdown",
   "id": "bae5023b",
   "metadata": {},
   "source": [
    "## Add Database to code"
   ]
  },
  {
   "cell_type": "code",
   "execution_count": 4,
   "id": "35287ec7",
   "metadata": {},
   "outputs": [],
   "source": [
    "config = {\n",
    "    'host' : '127.0.0.1',\n",
    "    'database': 'highscoreDB',\n",
    "    'user' : 'highscoreuser',\n",
    "    'password' : 'pathfinder',\n",
    "}"
   ]
  },
  {
   "cell_type": "code",
   "execution_count": 5,
   "id": "91599338",
   "metadata": {},
   "outputs": [],
   "source": [
    "with DBcm.UseDatabase(config) as db:\n",
    "    SQL = \"select * from players\"\n",
    "    db.execute(SQL)\n",
    "    data = db.fetchall()"
   ]
  },
  {
   "cell_type": "markdown",
   "id": "2f76ef94",
   "metadata": {},
   "source": [
    "## Sort table\n"
   ]
  },
  {
   "cell_type": "code",
   "execution_count": 6,
   "id": "f7a6a691",
   "metadata": {},
   "outputs": [],
   "source": [
    "##with DBcm.UseDatabase(config) as db:\n",
    "    ##SQL = \"\"\"insert into players(username, word, wordsinput, time_score, player_browser, player_ip) values (%s,%s,%s,%s,%s,%s) \"\"\"\n",
    "    ##db.execute(SQL,(username, givenWord, converted, endTime, playerBrowser, playerIP))\n",
    "    ##data = db.fetchall()\n",
    "\n",
    "with DBcm.UseDatabase(config) as db:\n",
    "    SQL = \"\"\"select * from players order by time_score\"\"\"\n",
    "    db.execute(SQL)\n",
    "    data = db.fetchall()"
   ]
  },
  {
   "cell_type": "code",
   "execution_count": 7,
   "id": "5b4ec9bf",
   "metadata": {},
   "outputs": [
    {
     "data": {
      "text/plain": [
       "[(36,\n",
       "  'hello',\n",
       "  'antiquarians',\n",
       "  'quaint squint squirt nuns quit aunt aqua',\n",
       "  95.1541)]"
      ]
     },
     "execution_count": 7,
     "metadata": {},
     "output_type": "execute_result"
    }
   ],
   "source": [
    "data"
   ]
  },
  {
   "cell_type": "markdown",
   "id": "87b43538",
   "metadata": {},
   "source": [
    "## Used for creating txt files"
   ]
  },
  {
   "cell_type": "code",
   "execution_count": 2,
   "id": "e5b78dec",
   "metadata": {},
   "outputs": [],
   "source": [
    "with open(\"small.txt\" , \"w\") as sf:\n",
    "    with open(\"big.txt\" , \"w\") as bf:\n",
    "        with open(\"words.txt\") as wf:\n",
    "            with open (\"finalwords.txt\" , \"w\") as ff:\n",
    "                for w in wf:\n",
    "                    if \"'s\" not in w: \n",
    "                        print(w.lower().strip(),file = ff)\n",
    "                       \n",
    "                        if len(w) > 7: \n",
    "                            print(w.lower().strip(),file = bf)\n",
    "                        else:\n",
    "                           print(w.lower().strip(),file = sf)\n"
   ]
  },
  {
   "cell_type": "markdown",
   "id": "1c5dc2f2",
   "metadata": {},
   "source": [
    "## Open the files"
   ]
  },
  {
   "cell_type": "code",
   "execution_count": 10,
   "id": "8955aeda",
   "metadata": {},
   "outputs": [],
   "source": [
    "with open (\"finalWords.txt\") as fullList:\n",
    "    wordList = fullList.read()\n",
    "    ##print(wordList)\n",
    "with open (\"big.txt\") as bigWordsList:\n",
    "    givenWords = bigWordsList.read()\n",
    "    ##print(givenWords)"
   ]
  },
  {
   "cell_type": "markdown",
   "id": "856cacc9",
   "metadata": {},
   "source": [
    "## Process Words ,check if player input is valid"
   ]
  },
  {
   "cell_type": "code",
   "execution_count": 19,
   "id": "b2e62c3e",
   "metadata": {},
   "outputs": [
    {
     "name": "stdout",
     "output_type": "stream",
     "text": [
      "Counter({'p': 2, 'e': 2, 'c': 2, 'o': 2, 'n': 2, 'r': 1, 't': 1, 'i': 1})\n",
      "Player Counter({'o': 1, 'n': 1, 'e': 1, 's': 1})\n",
      "Word is valid\n",
      "Word is valid\n",
      "Word is valid\n",
      "Word is not valid\n",
      "Player Counter({'t': 1, 'w': 1, 'o': 1, 's': 1})\n",
      "Word is valid\n",
      "Word is not valid\n",
      "Player Counter({'e': 2, 't': 1, 'h': 1, 'r': 1})\n",
      "Word is valid\n",
      "Word is not valid\n",
      "Player Counter({'f': 1, 'o': 1, 'u': 1, 'r': 1})\n",
      "Word is not valid\n",
      "Player Counter({'f': 1, 'i': 1, 'v': 1, 'e': 1})\n",
      "Word is not valid\n",
      "Player Counter({'s': 2, 'i': 1, 'x': 1, 'e': 1})\n",
      "Word is not valid\n",
      "Player Counter({'e': 2, 's': 1, 'v': 1, 'n': 1})\n",
      "Word is not valid\n"
     ]
    }
   ],
   "source": [
    "givenWord = (random.choice(givenWords.split()))\n",
    "playerWords = (\"ones\",\"twos\",\"there\",\"FOUR\",\"five\",\"sixes\",\"seven\")\n",
    "\n",
    "duplicateCounter = 0 ##Counter used for checking duplicates\n",
    "wordCounter = 0 ##Counter used for counting how many words are input\n",
    "valid = True\n",
    "sevenWords = True\n",
    "acceptedWords = True\n",
    "\n",
    "\n",
    "for word in playerWords:\n",
    "    wordCounter = wordCounter + 1\n",
    "    if word.lower() not in wordList: ##Check if word exists in full word list\n",
    "        print(\"One or more words does not exist\")\n",
    "        outputMessage = \"One or more words does not exist\"\n",
    "        acceptedWords = False\n",
    "        sevenWords = False\n",
    "        \n",
    "    if word.lower() == givenWord: ##Check if input word is not the same as given word\n",
    "        print(\"Player input the given word!\")\n",
    "        outputMessage = \"Player has input the given word\"\n",
    "        acceptedWords = False\n",
    "        sevenWords = False\n",
    "        \n",
    "    if len(word) < 4 : ##Check if word is longer than 3 characters\n",
    "        print (\"One or more words are shorter than 4 characters!\")\n",
    "        outputMessage = \"One or more words are shorter than 4 characters!\"\n",
    "        acceptedWords = False\n",
    "        sevenWords = False\n",
    "        \n",
    "        \n",
    "##Check if player input 7 words\n",
    "if wordCounter > 7:  \n",
    "    print(\"Too many words input\")\n",
    "    outputMessage = \"Too many words input\"\n",
    "    sevenWords = False\n",
    "if wordCounter < 7:\n",
    "    print(\"Not enough words input\")\n",
    "    outputMessage = \"Not enough words input\"\n",
    "    sevenWords = False\n",
    "else:     \n",
    "    for word in playerWords:\n",
    "        for secondWord in playerWords:\n",
    "            if word.lower() == secondWord.lower(): ##Check if duplicates exist, if counter is more than 7 then duplicates exist\n",
    "                duplicateCounter = duplicateCounter + 1\n",
    "\n",
    "    if duplicateCounter > 7:\n",
    "        print(\"Duplicate Words detected! : \", playerWords) \n",
    "        outputMessage = \"Duplicate Words detected!\"\n",
    "        sevenWords = False\n",
    "\n",
    "    \n",
    "lettersInGiven = Counter(givenWord) ##Count letters in given word\n",
    "print(lettersInGiven)\n",
    "\n",
    "if sevenWords == True:\n",
    "    for word in playerWords:\n",
    "        lettersInPlayer = Counter(word.lower()) ##Count letters in each user word\n",
    "        print(\"Player\", lettersInPlayer)\n",
    "        for i in lettersInPlayer:\n",
    "            if(lettersInPlayer[i] <= lettersInGiven[i]):\n",
    "                print(\"Word is valid\")\n",
    "                outputMessage = \"Word is valid\"\n",
    "            else:\n",
    "                print(\"Word is not valid\")\n",
    "                valid = False\n",
    "                break\n",
    "\n"
   ]
  },
  {
   "cell_type": "code",
   "execution_count": null,
   "id": "8fc97f7f",
   "metadata": {},
   "outputs": [],
   "source": []
  }
 ],
 "metadata": {
  "kernelspec": {
   "display_name": "Python 3 (ipykernel)",
   "language": "python",
   "name": "python3"
  },
  "language_info": {
   "codemirror_mode": {
    "name": "ipython",
    "version": 3
   },
   "file_extension": ".py",
   "mimetype": "text/x-python",
   "name": "python",
   "nbconvert_exporter": "python",
   "pygments_lexer": "ipython3",
   "version": "3.9.7"
  }
 },
 "nbformat": 4,
 "nbformat_minor": 5
}
