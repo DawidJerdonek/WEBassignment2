{
 "cells": [
  {
   "cell_type": "code",
   "execution_count": 1,
   "id": "54225c16",
   "metadata": {},
   "outputs": [],
   "source": [
    "import DBcm\n"
   ]
  },
  {
   "cell_type": "code",
   "execution_count": 2,
   "id": "35287ec7",
   "metadata": {},
   "outputs": [],
   "source": [
    "config = {\n",
    "    'host' : '127.0.0.1',\n",
    "    'database': 'highscoreDB',\n",
    "    'user' : 'highscoreuser',\n",
    "    'password' : 'pathfinder',\n",
    "}"
   ]
  },
  {
   "cell_type": "code",
   "execution_count": 4,
   "id": "91599338",
   "metadata": {},
   "outputs": [],
   "source": [
    "with DBcm.UseDatabase(config) as db:\n",
    "    SQL = \"select * from players\"\n",
    "    db.execute(SQL)\n",
    "    data = db.fetchall()"
   ]
  },
  {
   "cell_type": "code",
   "execution_count": 5,
   "id": "5b4ec9bf",
   "metadata": {},
   "outputs": [
    {
     "data": {
      "text/plain": [
       "list"
      ]
     },
     "execution_count": 5,
     "metadata": {},
     "output_type": "execute_result"
    }
   ],
   "source": [
    "type(data)"
   ]
  },
  {
   "cell_type": "code",
   "execution_count": 6,
   "id": "e789a4a2",
   "metadata": {},
   "outputs": [
    {
     "data": {
      "text/plain": [
       "[]"
      ]
     },
     "execution_count": 6,
     "metadata": {},
     "output_type": "execute_result"
    }
   ],
   "source": [
    "data\n"
   ]
  },
  {
   "cell_type": "code",
   "execution_count": 7,
   "id": "f421203c",
   "metadata": {},
   "outputs": [],
   "source": [
    "with open(\"small.txt\" , \"w\") as sf:\n",
    "    with open(\"big.txt\" , \"w\") as bf:\n",
    "        with open(\"words.txt\") as wf:\n",
    "            for w in wf:\n",
    "                if len(w) > 7:\n",
    "                    w.lower()\n",
    "                    print(w,file = bf)\n",
    "                else:\n",
    "                    w.lower()\n",
    "                    print(w,file=sf)"
   ]
  },
  {
   "cell_type": "code",
   "execution_count": 8,
   "id": "e22b2443",
   "metadata": {},
   "outputs": [],
   "source": [
    "if \"'s\" in w:\n",
    "    remove(w)"
   ]
  },
  {
   "cell_type": "code",
   "execution_count": 28,
   "id": "e5b78dec",
   "metadata": {},
   "outputs": [],
   "source": [
    "with open(\"small.txt\" , \"w\") as sf:\n",
    "    with open(\"big.txt\" , \"w\") as bf:\n",
    "        with open(\"words.txt\") as wf:\n",
    "            with open (\"finalwords.txt\" , \"w\") as ff:\n",
    "                for w in wf:\n",
    "                    if \"'s\" not in w: \n",
    "                        print(w.lower(),file=ff)\n",
    "                        \n",
    "                        if len(w) > 7: \n",
    "                            print(w.lower(),file = bf)\n",
    "                        else:\n",
    "                            print(w.lower(),file=sf)\n",
    "\n",
    "                            \n",
    "                "
   ]
  },
  {
   "cell_type": "code",
   "execution_count": null,
   "id": "8955aeda",
   "metadata": {},
   "outputs": [],
   "source": []
  }
 ],
 "metadata": {
  "kernelspec": {
   "display_name": "Python 3 (ipykernel)",
   "language": "python",
   "name": "python3"
  },
  "language_info": {
   "codemirror_mode": {
    "name": "ipython",
    "version": 3
   },
   "file_extension": ".py",
   "mimetype": "text/x-python",
   "name": "python",
   "nbconvert_exporter": "python",
   "pygments_lexer": "ipython3",
   "version": "3.9.7"
  }
 },
 "nbformat": 4,
 "nbformat_minor": 5
}
