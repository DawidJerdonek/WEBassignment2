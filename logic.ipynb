{
 "cells": [
  {
   "cell_type": "code",
   "execution_count": 1,
   "id": "54225c16",
   "metadata": {},
   "outputs": [],
   "source": [
    "import DBcm\n",
    "import random\n",
    "from collections import Counter"
   ]
  },
  {
   "cell_type": "code",
   "execution_count": 2,
   "id": "35287ec7",
   "metadata": {},
   "outputs": [],
   "source": [
    "config = {\n",
    "    'host' : '127.0.0.1',\n",
    "    'database': 'highscoreDB',\n",
    "    'user' : 'highscoreuser',\n",
    "    'password' : 'pathfinder',\n",
    "}"
   ]
  },
  {
   "cell_type": "code",
   "execution_count": 3,
   "id": "91599338",
   "metadata": {},
   "outputs": [],
   "source": [
    "with DBcm.UseDatabase(config) as db:\n",
    "    SQL = \"select * from players\"\n",
    "    db.execute(SQL)\n",
    "    data = db.fetchall()"
   ]
  },
  {
   "cell_type": "code",
   "execution_count": 4,
   "id": "5b4ec9bf",
   "metadata": {},
   "outputs": [
    {
     "data": {
      "text/plain": [
       "list"
      ]
     },
     "execution_count": 4,
     "metadata": {},
     "output_type": "execute_result"
    }
   ],
   "source": [
    "type(data)"
   ]
  },
  {
   "cell_type": "code",
   "execution_count": 5,
   "id": "e789a4a2",
   "metadata": {},
   "outputs": [
    {
     "data": {
      "text/plain": [
       "[]"
      ]
     },
     "execution_count": 5,
     "metadata": {},
     "output_type": "execute_result"
    }
   ],
   "source": [
    "data\n"
   ]
  },
  {
   "cell_type": "code",
   "execution_count": 6,
   "id": "f421203c",
   "metadata": {},
   "outputs": [],
   "source": [
    "##with open(\"small.txt\" , \"w\") as sf:\n",
    "  ##  with open(\"big.txt\" , \"w\") as bf:\n",
    "    ##    with open(\"words.txt\") as wf:\n",
    "      ##      for w in wf:\n",
    "        ##        if len(w) > 7:\n",
    "          ##          w.lower()\n",
    "            ##        print(w,file = bf)\n",
    "              ##  else:\n",
    "                ##    w.lower()\n",
    "                  ##  print(w,file=sf)"
   ]
  },
  {
   "cell_type": "code",
   "execution_count": 17,
   "id": "e5b78dec",
   "metadata": {},
   "outputs": [],
   "source": [
    "##with open(\"small.txt\" , \"w\") as sf:\n",
    "  ##  with open(\"big.txt\" , \"w\") as bf:\n",
    "    ##    with open(\"words.txt\") as wf:\n",
    "      ##      with open (\"finalwords.txt\" , \"w\") as ff:\n",
    "        ##        for w in wf:\n",
    "          ##          if \"'s\" not in w: \n",
    "            ##            print(w.lower(),file=ff)\n",
    "              ##          \n",
    "                ##        if len(w) > 7: \n",
    "                  ##          print(w.lower(),file = bf)\n",
    "                    ##    else:\n",
    "                      ##      print(w.lower(),file=sf)\n",
    "\n",
    "                            \n",
    "                "
   ]
  },
  {
   "cell_type": "code",
   "execution_count": 69,
   "id": "8955aeda",
   "metadata": {},
   "outputs": [],
   "source": [
    "with open (\"finalWords.txt\") as fullList:\n",
    "    wordList = fullList.read()\n",
    "    ##print(wordList)\n",
    "with open (\"big.txt\") as bigWordsList:\n",
    "    givenWords = bigWordsList.read()\n",
    "    ##print(givenWords)"
   ]
  },
  {
   "cell_type": "code",
   "execution_count": 118,
   "id": "b2e62c3e",
   "metadata": {},
   "outputs": [
    {
     "name": "stdout",
     "output_type": "stream",
     "text": [
      "billowy\n",
      "One or more words are shorter than 4 characters!\n",
      "One or more words are shorter than 4 characters!\n",
      "One or more words are shorter than 4 characters!\n",
      "Too many words input\n",
      "Duplicate Words detected! :  ('one', 'two', 'three', 'FOUR', 'five', 'six', 'seven', 'four')\n",
      "10\n",
      "Counter({'l': 2, 'b': 1, 'i': 1, 'o': 1, 'w': 1, 'y': 1})\n",
      "Player Counter({'o': 1, 'n': 1, 'e': 1})\n",
      "Word is valid\n",
      "Word is not valid\n",
      "Player Counter({'t': 1, 'w': 1, 'o': 1})\n",
      "Word is not valid\n",
      "Player Counter({'e': 2, 't': 1, 'h': 1, 'r': 1})\n",
      "Word is not valid\n",
      "Player Counter({'f': 1, 'o': 1, 'u': 1, 'r': 1})\n",
      "Word is not valid\n",
      "Player Counter({'f': 1, 'i': 1, 'v': 1, 'e': 1})\n",
      "Word is not valid\n",
      "Player Counter({'s': 1, 'i': 1, 'x': 1})\n",
      "Word is not valid\n",
      "Player Counter({'e': 2, 's': 1, 'v': 1, 'n': 1})\n",
      "Word is not valid\n",
      "Player Counter({'f': 1, 'o': 1, 'u': 1, 'r': 1})\n",
      "Word is not valid\n"
     ]
    }
   ],
   "source": [
    "givenWord = (random.choice(givenWords.split()))\n",
    "playerWords = (\"one\",\"two\",\"three\",\"FOUR\",\"five\",\"six\",\"seven\")\n",
    "print(givenWord)\n",
    "\n",
    "duplicateCounter = 0 ##Counter used for checking duplicates\n",
    "wordCounter = 0 ##Counter used for counting how many words are input\n",
    "\n",
    "for word in playerWords:\n",
    "    wordCounter = wordCounter + 1\n",
    "    if word.lower() not in wordList: ##Check if word exists in full word list\n",
    "        print(\"Not a real word!\")\n",
    "        \n",
    "    if word.lower() == givenWord: ##Check if input word is not the same as given word\n",
    "        print(\"Player input the given word!\")\n",
    "        \n",
    "    if len(word) < 4 : ##Check if word is longer than 3 characters\n",
    "        print (\"One or more words are shorter than 4 characters!\")\n",
    "        \n",
    "        \n",
    "##Check if player input 7 words\n",
    "if wordCounter > 7:  \n",
    "    print(\"Too many words input\")\n",
    "if wordCounter < 7:\n",
    "    print(\"Not enough words input\")\n",
    "else:     \n",
    "    for word in playerWords:\n",
    "        for secondWord in playerWords:\n",
    "            if word.lower() == secondWord.lower(): ##Check if duplicates exist, if counter is more than 7 then duplicates exist\n",
    "                duplicateCounter = duplicateCounter + 1\n",
    "\n",
    "    if duplicateCounter > 7:\n",
    "        print(\"Duplicate Words detected! : \", playerWords) \n",
    "    \n",
    "    print(duplicateCounter)\n",
    "\n",
    "    \n",
    "lettersInGiven = Counter(givenWord) ##Count letters in given word\n",
    "print(lettersInGiven)\n",
    "for word in playerWords:\n",
    "    lettersInPlayer = Counter(word.lower()) ##Count letters in each user word\n",
    "    print(\"Player\", lettersInPlayer)\n",
    "    for i in lettersInPlayer:\n",
    "        if(lettersInPlayer[i] <= lettersInGiven[i]):\n",
    "            print(\"Word is valid\")\n",
    "        else:\n",
    "            print(\"Word is not valid\")\n",
    "            break\n",
    "\n"
   ]
  },
  {
   "cell_type": "code",
   "execution_count": 24,
   "id": "39cfb869",
   "metadata": {},
   "outputs": [
    {
     "name": "stdout",
     "output_type": "stream",
     "text": [
      "whelped\n"
     ]
    }
   ],
   "source": []
  },
  {
   "cell_type": "code",
   "execution_count": null,
   "id": "8fc97f7f",
   "metadata": {},
   "outputs": [],
   "source": []
  }
 ],
 "metadata": {
  "kernelspec": {
   "display_name": "Python 3 (ipykernel)",
   "language": "python",
   "name": "python3"
  },
  "language_info": {
   "codemirror_mode": {
    "name": "ipython",
    "version": 3
   },
   "file_extension": ".py",
   "mimetype": "text/x-python",
   "name": "python",
   "nbconvert_exporter": "python",
   "pygments_lexer": "ipython3",
   "version": "3.9.7"
  }
 },
 "nbformat": 4,
 "nbformat_minor": 5
}
