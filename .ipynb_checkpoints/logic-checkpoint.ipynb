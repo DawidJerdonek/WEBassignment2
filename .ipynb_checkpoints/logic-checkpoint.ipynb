{
 "cells": [
  {
   "cell_type": "code",
   "execution_count": 3,
   "id": "54225c16",
   "metadata": {},
   "outputs": [],
   "source": [
    "import DBcm\n",
    "import random\n",
    "from collections import Counter"
   ]
  },
  {
   "cell_type": "markdown",
   "id": "bae5023b",
   "metadata": {},
   "source": [
    "## Add Database to code"
   ]
  },
  {
   "cell_type": "code",
   "execution_count": 4,
   "id": "35287ec7",
   "metadata": {},
   "outputs": [],
   "source": [
    "config = {\n",
    "    'host' : '127.0.0.1',\n",
    "    'database': 'highscoreDB',\n",
    "    'user' : 'highscoreuser',\n",
    "    'password' : 'pathfinder',\n",
    "}"
   ]
  },
  {
   "cell_type": "code",
   "execution_count": 5,
   "id": "91599338",
   "metadata": {},
   "outputs": [],
   "source": [
    "with DBcm.UseDatabase(config) as db:\n",
    "    SQL = \"select * from players\"\n",
    "    db.execute(SQL)\n",
    "    data = db.fetchall()"
   ]
  },
  {
   "cell_type": "markdown",
   "id": "2f76ef94",
   "metadata": {},
   "source": [
    "## Insert into table and sort\n"
   ]
  },
  {
   "cell_type": "code",
   "execution_count": 6,
   "id": "f7a6a691",
   "metadata": {},
   "outputs": [
    {
     "ename": "NameError",
     "evalue": "name 'username' is not defined",
     "output_type": "error",
     "traceback": [
      "\u001b[1;31m---------------------------------------------------------------------------\u001b[0m",
      "\u001b[1;31mNameError\u001b[0m                                 Traceback (most recent call last)",
      "\u001b[1;32m~\\AppData\\Local\\Temp/ipykernel_11572/3513362572.py\u001b[0m in \u001b[0;36m<module>\u001b[1;34m\u001b[0m\n\u001b[0;32m      2\u001b[0m     \u001b[0mSQL\u001b[0m \u001b[1;33m=\u001b[0m \u001b[1;34m\"\"\"insert into players(username, word, wordsinput, time_score, player_browser, player_ip) values (%s,%s,%s,%s,%s,%s) \"\"\"\u001b[0m\u001b[1;33m\u001b[0m\u001b[1;33m\u001b[0m\u001b[0m\n\u001b[1;32m----> 3\u001b[1;33m     \u001b[0mdb\u001b[0m\u001b[1;33m.\u001b[0m\u001b[0mexecute\u001b[0m\u001b[1;33m(\u001b[0m\u001b[0mSQL\u001b[0m\u001b[1;33m,\u001b[0m\u001b[1;33m(\u001b[0m\u001b[0musername\u001b[0m\u001b[1;33m,\u001b[0m \u001b[0mgivenWord\u001b[0m\u001b[1;33m,\u001b[0m \u001b[0mconverted\u001b[0m\u001b[1;33m,\u001b[0m \u001b[0mendTime\u001b[0m\u001b[1;33m,\u001b[0m \u001b[0mplayerBrowser\u001b[0m\u001b[1;33m,\u001b[0m \u001b[0mplayerIP\u001b[0m\u001b[1;33m)\u001b[0m\u001b[1;33m)\u001b[0m\u001b[1;33m\u001b[0m\u001b[1;33m\u001b[0m\u001b[0m\n\u001b[0m\u001b[0;32m      4\u001b[0m     \u001b[1;31m##data = db.fetchall()\u001b[0m\u001b[1;33m\u001b[0m\u001b[1;33m\u001b[0m\u001b[0m\n",
      "\u001b[1;31mNameError\u001b[0m: name 'username' is not defined",
      "\nDuring handling of the above exception, another exception occurred:\n",
      "\u001b[1;31mNameError\u001b[0m                                 Traceback (most recent call last)",
      "\u001b[1;32m~\\AppData\\Local\\Temp/ipykernel_11572/3513362572.py\u001b[0m in \u001b[0;36m<module>\u001b[1;34m\u001b[0m\n\u001b[0;32m      1\u001b[0m \u001b[1;32mwith\u001b[0m \u001b[0mDBcm\u001b[0m\u001b[1;33m.\u001b[0m\u001b[0mUseDatabase\u001b[0m\u001b[1;33m(\u001b[0m\u001b[0mconfig\u001b[0m\u001b[1;33m)\u001b[0m \u001b[1;32mas\u001b[0m \u001b[0mdb\u001b[0m\u001b[1;33m:\u001b[0m\u001b[1;33m\u001b[0m\u001b[1;33m\u001b[0m\u001b[0m\n\u001b[0;32m      2\u001b[0m     \u001b[0mSQL\u001b[0m \u001b[1;33m=\u001b[0m \u001b[1;34m\"\"\"insert into players(username, word, wordsinput, time_score, player_browser, player_ip) values (%s,%s,%s,%s,%s,%s) \"\"\"\u001b[0m\u001b[1;33m\u001b[0m\u001b[1;33m\u001b[0m\u001b[0m\n\u001b[1;32m----> 3\u001b[1;33m     \u001b[0mdb\u001b[0m\u001b[1;33m.\u001b[0m\u001b[0mexecute\u001b[0m\u001b[1;33m(\u001b[0m\u001b[0mSQL\u001b[0m\u001b[1;33m,\u001b[0m\u001b[1;33m(\u001b[0m\u001b[0musername\u001b[0m\u001b[1;33m,\u001b[0m \u001b[0mgivenWord\u001b[0m\u001b[1;33m,\u001b[0m \u001b[0mconverted\u001b[0m\u001b[1;33m,\u001b[0m \u001b[0mendTime\u001b[0m\u001b[1;33m,\u001b[0m \u001b[0mplayerBrowser\u001b[0m\u001b[1;33m,\u001b[0m \u001b[0mplayerIP\u001b[0m\u001b[1;33m)\u001b[0m\u001b[1;33m)\u001b[0m\u001b[1;33m\u001b[0m\u001b[1;33m\u001b[0m\u001b[0m\n\u001b[0m\u001b[0;32m      4\u001b[0m     \u001b[1;31m##data = db.fetchall()\u001b[0m\u001b[1;33m\u001b[0m\u001b[1;33m\u001b[0m\u001b[0m\n\u001b[0;32m      5\u001b[0m \u001b[1;33m\u001b[0m\u001b[0m\n",
      "\u001b[1;32m~\\miniconda3\\lib\\site-packages\\DBcm.py\u001b[0m in \u001b[0;36m__exit__\u001b[1;34m(self, exc_type, exc_value, exc_traceback)\u001b[0m\n\u001b[0;32m     89\u001b[0m             \u001b[1;32mraise\u001b[0m \u001b[0mSQLError\u001b[0m\u001b[1;33m(\u001b[0m\u001b[0mexc_value\u001b[0m\u001b[1;33m)\u001b[0m\u001b[1;33m\u001b[0m\u001b[1;33m\u001b[0m\u001b[0m\n\u001b[0;32m     90\u001b[0m         \u001b[1;32melif\u001b[0m \u001b[0mexc_type\u001b[0m\u001b[1;33m:\u001b[0m\u001b[1;33m\u001b[0m\u001b[1;33m\u001b[0m\u001b[0m\n\u001b[1;32m---> 91\u001b[1;33m             \u001b[1;32mraise\u001b[0m \u001b[0mexc_type\u001b[0m\u001b[1;33m(\u001b[0m\u001b[0mexc_value\u001b[0m\u001b[1;33m)\u001b[0m\u001b[1;33m\u001b[0m\u001b[1;33m\u001b[0m\u001b[0m\n\u001b[0m",
      "\u001b[1;31mNameError\u001b[0m: name 'username' is not defined"
     ]
    }
   ],
   "source": [
    "##with DBcm.UseDatabase(config) as db:\n",
    "    ##SQL = \"\"\"insert into players(username, word, wordsinput, time_score, player_browser, player_ip) values (%s,%s,%s,%s,%s,%s) \"\"\"\n",
    "    ##db.execute(SQL,(username, givenWord, converted, endTime, playerBrowser, playerIP))\n",
    "    ##data = db.fetchall()\n",
    "\n",
    "##with DBcm.UseDatabase(config) as db:\n",
    "    ##SQL = \"\"\"select * from players order by time_score\"\"\"\n",
    "    ##db.execute(SQL)\n",
    "    ##data = db.fetchall()"
   ]
  },
  {
   "cell_type": "code",
   "execution_count": 7,
   "id": "5b4ec9bf",
   "metadata": {},
   "outputs": [
    {
     "data": {
      "text/plain": [
       "[(1,\n",
       "  'winner',\n",
       "  'necrosis',\n",
       "  'censors censor coin coins cone cones nicer',\n",
       "  34.1076,\n",
       "  datetime.datetime(2021, 12, 15, 11, 31, 41),\n",
       "  'Mozilla/5.0 (Windows NT 10.0; Win64; x64) AppleWebKit/537.36 (KHTML, like Gecko) Chrome/96.0.4664.93 Safari/537.36',\n",
       "  '127.0.0.1'),\n",
       " (2,\n",
       "  'winner',\n",
       "  'retrieve',\n",
       "  'retire revert revere river reeve evert ever',\n",
       "  40.767,\n",
       "  datetime.datetime(2021, 12, 15, 11, 49, 47),\n",
       "  'Mozilla/5.0 (Windows NT 10.0; Win64; x64) AppleWebKit/537.36 (KHTML, like Gecko) Chrome/96.0.4664.93 Safari/537.36',\n",
       "  '127.0.0.1'),\n",
       " (4,\n",
       "  'me',\n",
       "  'recyclables',\n",
       "  'recyclable recycle ball balls scarcely clearly cycle',\n",
       "  38.0777,\n",
       "  datetime.datetime(2021, 12, 15, 12, 1, 36),\n",
       "  'Mozilla/5.0 (Windows NT 10.0; Win64; x64) AppleWebKit/537.36 (KHTML, like Gecko) Chrome/96.0.4664.93 Safari/537.36',\n",
       "  '127.0.0.1'),\n",
       " (5,\n",
       "  'another one',\n",
       "  'futures',\n",
       "  'future uterus fetus turf fret surf fuse',\n",
       "  37.7881,\n",
       "  datetime.datetime(2021, 12, 15, 12, 4, 2),\n",
       "  'Mozilla/5.0 (Windows NT 10.0; Win64; x64) AppleWebKit/537.36 (KHTML, like Gecko) Chrome/96.0.4664.93 Safari/537.36',\n",
       "  '127.0.0.1')]"
      ]
     },
     "execution_count": 7,
     "metadata": {},
     "output_type": "execute_result"
    }
   ],
   "source": [
    "data"
   ]
  },
  {
   "cell_type": "markdown",
   "id": "87b43538",
   "metadata": {},
   "source": [
    "## Used for creating txt files"
   ]
  },
  {
   "cell_type": "code",
   "execution_count": 2,
   "id": "e5b78dec",
   "metadata": {},
   "outputs": [],
   "source": [
    "with open(\"small.txt\" , \"w\") as sf:\n",
    "    with open(\"big.txt\" , \"w\") as bf:\n",
    "        with open(\"words.txt\") as wf:\n",
    "            with open (\"finalwords.txt\" , \"w\") as ff:\n",
    "                for w in wf:\n",
    "                    if \"'s\" not in w: \n",
    "                        print(w.lower().strip(),file = ff)\n",
    "                       \n",
    "                        if len(w) > 7: \n",
    "                            print(w.lower().strip(),file = bf)\n",
    "                        else:\n",
    "                           print(w.lower().strip(),file = sf)\n"
   ]
  },
  {
   "cell_type": "markdown",
   "id": "1c5dc2f2",
   "metadata": {},
   "source": [
    "## Open the files"
   ]
  },
  {
   "cell_type": "code",
   "execution_count": 69,
   "id": "8955aeda",
   "metadata": {},
   "outputs": [],
   "source": [
    "with open (\"finalWords.txt\") as fullList:\n",
    "    wordList = fullList.read()\n",
    "    ##print(wordList)\n",
    "with open (\"big.txt\") as bigWordsList:\n",
    "    givenWords = bigWordsList.read()\n",
    "    ##print(givenWords)"
   ]
  },
  {
   "cell_type": "markdown",
   "id": "856cacc9",
   "metadata": {},
   "source": [
    "## Process Words ,check if player input is valid"
   ]
  },
  {
   "cell_type": "code",
   "execution_count": 118,
   "id": "b2e62c3e",
   "metadata": {},
   "outputs": [
    {
     "name": "stdout",
     "output_type": "stream",
     "text": [
      "billowy\n",
      "One or more words are shorter than 4 characters!\n",
      "One or more words are shorter than 4 characters!\n",
      "One or more words are shorter than 4 characters!\n",
      "Too many words input\n",
      "Duplicate Words detected! :  ('one', 'two', 'three', 'FOUR', 'five', 'six', 'seven', 'four')\n",
      "10\n",
      "Counter({'l': 2, 'b': 1, 'i': 1, 'o': 1, 'w': 1, 'y': 1})\n",
      "Player Counter({'o': 1, 'n': 1, 'e': 1})\n",
      "Word is valid\n",
      "Word is not valid\n",
      "Player Counter({'t': 1, 'w': 1, 'o': 1})\n",
      "Word is not valid\n",
      "Player Counter({'e': 2, 't': 1, 'h': 1, 'r': 1})\n",
      "Word is not valid\n",
      "Player Counter({'f': 1, 'o': 1, 'u': 1, 'r': 1})\n",
      "Word is not valid\n",
      "Player Counter({'f': 1, 'i': 1, 'v': 1, 'e': 1})\n",
      "Word is not valid\n",
      "Player Counter({'s': 1, 'i': 1, 'x': 1})\n",
      "Word is not valid\n",
      "Player Counter({'e': 2, 's': 1, 'v': 1, 'n': 1})\n",
      "Word is not valid\n",
      "Player Counter({'f': 1, 'o': 1, 'u': 1, 'r': 1})\n",
      "Word is not valid\n"
     ]
    }
   ],
   "source": [
    "givenWord = (random.choice(givenWords.split()))\n",
    "playerWords = (\"one\",\"two\",\"three\",\"FOUR\",\"five\",\"six\",\"seven\")\n",
    "\n",
    "duplicateCounter = 0 ##Counter used for checking duplicates\n",
    "wordCounter = 0 ##Counter used for counting how many words are input\n",
    "\n",
    "for word in playerWords:\n",
    "    wordCounter = wordCounter + 1\n",
    "    if word.lower() not in wordList: ##Check if word exists in full word list\n",
    "        print(\"Not a real word!\")\n",
    "        \n",
    "    if word.lower() == givenWord: ##Check if input word is not the same as given word\n",
    "        print(\"Player input the given word!\")\n",
    "        \n",
    "    if len(word) < 4 : ##Check if word is longer than 3 characters\n",
    "        print (\"One or more words are shorter than 4 characters!\")\n",
    "        \n",
    "        \n",
    "##Check if player input 7 words\n",
    "if wordCounter > 7:  \n",
    "    print(\"Too many words input\")\n",
    "if wordCounter < 7:\n",
    "    print(\"Not enough words input\")\n",
    "else:     \n",
    "    for word in playerWords:\n",
    "        for secondWord in playerWords:\n",
    "            if word.lower() == secondWord.lower(): ##Check if duplicates exist, if counter is more than 7 then duplicates exist\n",
    "                duplicateCounter = duplicateCounter + 1\n",
    "\n",
    "    if duplicateCounter > 7:\n",
    "        print(\"Duplicate Words detected! : \", playerWords) \n",
    "    \n",
    "    print(duplicateCounter)\n",
    "\n",
    "    \n",
    "lettersInGiven = Counter(givenWord) ##Count letters in given word\n",
    "print(lettersInGiven)\n",
    "for word in playerWords:\n",
    "    lettersInPlayer = Counter(word.lower()) ##Count letters in each user word\n",
    "    print(\"Player\", lettersInPlayer)\n",
    "    for i in lettersInPlayer:\n",
    "        if(lettersInPlayer[i] <= lettersInGiven[i]):\n",
    "            print(\"Word is valid\")\n",
    "        else:\n",
    "            print(\"Word is not valid\")\n",
    "            break\n",
    "\n"
   ]
  },
  {
   "cell_type": "code",
   "execution_count": null,
   "id": "8fc97f7f",
   "metadata": {},
   "outputs": [],
   "source": []
  }
 ],
 "metadata": {
  "kernelspec": {
   "display_name": "Python 3 (ipykernel)",
   "language": "python",
   "name": "python3"
  },
  "language_info": {
   "codemirror_mode": {
    "name": "ipython",
    "version": 3
   },
   "file_extension": ".py",
   "mimetype": "text/x-python",
   "name": "python",
   "nbconvert_exporter": "python",
   "pygments_lexer": "ipython3",
   "version": "3.9.7"
  }
 },
 "nbformat": 4,
 "nbformat_minor": 5
}
